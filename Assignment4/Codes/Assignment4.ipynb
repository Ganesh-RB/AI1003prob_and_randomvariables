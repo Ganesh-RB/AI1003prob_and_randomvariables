{
  "nbformat": 4,
  "nbformat_minor": 0,
  "metadata": {
    "colab": {
      "name": "Assignmentn4_SYMPY.ipynb",
      "provenance": [],
      "collapsed_sections": []
    },
    "kernelspec": {
      "name": "python3",
      "display_name": "Python 3"
    },
    "language_info": {
      "name": "python"
    }
  },
  "cells": [
    {
      "cell_type": "code",
      "metadata": {
        "colab": {
          "base_uri": "https://localhost:8080/",
          "height": 59
        },
        "id": "H95mMVeQCkQ5",
        "outputId": "b1f96faa-204d-4233-c76d-7d8927262439"
      },
      "source": [
        "from sympy import *\n",
        "z=Symbol('z')\n",
        "init_printing()\n",
        "Y=((z+(1/z))**4)/(2**4)\n",
        "Y"
      ],
      "execution_count": 22,
      "outputs": [
        {
          "output_type": "execute_result",
          "data": {
            "image/png": "[encoded data removed]",
            "text/latex": "$\\displaystyle \\frac{\\left(z + \\frac{1}{z}\\right)^{4}}{16}$",
            "text/plain": [
              "       4\n",
              "⎛    1⎞ \n",
              "⎜z + ─⎟ \n",
              "⎝    z⎠ \n",
              "────────\n",
              "   16   "
            ]
          },
          "metadata": {
            "tags": []
          },
          "execution_count": 22
        }
      ]
    },
    {
      "cell_type": "code",
      "metadata": {
        "colab": {
          "base_uri": "https://localhost:8080/",
          "height": 54
        },
        "id": "PsFMbL80Cz52",
        "outputId": "ed328fa7-6520-488c-a023-2ebcc22eb8d1"
      },
      "source": [
        "d1=diff(Y,z,1)\n",
        "d1.expand()"
      ],
      "execution_count": 17,
      "outputs": [
        {
          "output_type": "execute_result",
          "data": {
            "image/png": "[encoded data removed]",
            "text/latex": "$\\displaystyle \\frac{z^{3}}{4} + \\frac{z}{2} - \\frac{1}{2 z^{3}} - \\frac{1}{4 z^{5}}$",
            "text/plain": [
              " 3                  \n",
              "z    z    1      1  \n",
              "── + ─ - ──── - ────\n",
              "4    2      3      5\n",
              "         2⋅z    4⋅z "
            ]
          },
          "metadata": {
            "tags": []
          },
          "execution_count": 17
        }
      ]
    },
    {
      "cell_type": "code",
      "metadata": {
        "colab": {
          "base_uri": "https://localhost:8080/",
          "height": 37
        },
        "id": "0NnEtbVxC6PN",
        "outputId": "ca0b4bf9-18d9-422d-c834-f03e5e2dd290"
      },
      "source": [
        "D1_=d1.subs(z,1)\n",
        "D1_"
      ],
      "execution_count": 23,
      "outputs": [
        {
          "output_type": "execute_result",
          "data": {
            "image/png": "[encoded data removed]",
            "text/latex": "$\\displaystyle 0$",
            "text/plain": [
              "0"
            ]
          },
          "metadata": {
            "tags": []
          },
          "execution_count": 23
        }
      ]
    },
    {
      "cell_type": "code",
      "metadata": {
        "colab": {
          "base_uri": "https://localhost:8080/",
          "height": 54
        },
        "id": "RnfXeee7C-IK",
        "outputId": "8fc3cda6-fc37-442d-e8f7-9827e3208601"
      },
      "source": [
        "d2=diff(d1,z)\n",
        "d2.expand()"
      ],
      "execution_count": 18,
      "outputs": [
        {
          "output_type": "execute_result",
          "data": {
            "image/png": "[encoded data removed]",
            "text/latex": "$\\displaystyle \\frac{3 z^{2}}{4} + \\frac{1}{2} + \\frac{3}{2 z^{4}} + \\frac{5}{4 z^{6}}$",
            "text/plain": [
              "   2                  \n",
              "3⋅z    1    3      5  \n",
              "──── + ─ + ──── + ────\n",
              " 4     2      4      6\n",
              "           2⋅z    4⋅z "
            ]
          },
          "metadata": {
            "tags": []
          },
          "execution_count": 18
        }
      ]
    },
    {
      "cell_type": "code",
      "metadata": {
        "colab": {
          "base_uri": "https://localhost:8080/",
          "height": 37
        },
        "id": "Geki5K1JC_Fu",
        "outputId": "c8b547c6-661d-4d59-8461-dec4e58dc5d6"
      },
      "source": [
        "D2_=d2.subs(z,1)\n",
        "D2_"
      ],
      "execution_count": 12,
      "outputs": [
        {
          "output_type": "execute_result",
          "data": {
            "image/png": "[encoded data removed]",
            "text/latex": "$\\displaystyle 4$",
            "text/plain": [
              "4"
            ]
          },
          "metadata": {
            "tags": []
          },
          "execution_count": 12
        }
      ]
    },
    {
      "cell_type": "code",
      "metadata": {
        "colab": {
          "base_uri": "https://localhost:8080/",
          "height": 51
        },
        "id": "ezdZioPCDBWq",
        "outputId": "3ae707ac-37e2-4e8b-a35f-6c68f5dff4cb"
      },
      "source": [
        "d3=diff(d2,z)\n",
        "d3.expand()"
      ],
      "execution_count": 19,
      "outputs": [
        {
          "output_type": "execute_result",
          "data": {
            "image/png": "[encoded data removed]",
            "text/latex": "$\\displaystyle \\frac{3 z}{2} - \\frac{6}{z^{5}} - \\frac{15}{2 z^{7}}$",
            "text/plain": [
              "3⋅z   6     15 \n",
              "─── - ── - ────\n",
              " 2     5      7\n",
              "      z    2⋅z "
            ]
          },
          "metadata": {
            "tags": []
          },
          "execution_count": 19
        }
      ]
    },
    {
      "cell_type": "code",
      "metadata": {
        "colab": {
          "base_uri": "https://localhost:8080/",
          "height": 37
        },
        "id": "XGQGrEk9DFRJ",
        "outputId": "89cfbc08-fd77-4d81-9589-ea1dfe51740a"
      },
      "source": [
        "D3_=d3.subs(z,1)\n",
        "D3_"
      ],
      "execution_count": null,
      "outputs": [
        {
          "output_type": "execute_result",
          "data": {
            "image/png": "[encoded data removed]",
            "text/latex": "$\\displaystyle -12$",
            "text/plain": [
              "-12"
            ]
          },
          "metadata": {
            "tags": []
          },
          "execution_count": 10
        }
      ]
    },
    {
      "cell_type": "code",
      "metadata": {
        "colab": {
          "base_uri": "https://localhost:8080/",
          "height": 51
        },
        "id": "adg5CvbUDHPR",
        "outputId": "37512826-6d69-4b45-8b5d-d8e5bbac4dea"
      },
      "source": [
        "d4=diff(d3,z)\n",
        "d4.expand()"
      ],
      "execution_count": 20,
      "outputs": [
        {
          "output_type": "execute_result",
          "data": {
            "image/png": "[encoded data removed]",
            "text/latex": "$\\displaystyle \\frac{3}{2} + \\frac{30}{z^{6}} + \\frac{105}{2 z^{8}}$",
            "text/plain": [
              "3   30   105 \n",
              "─ + ── + ────\n",
              "2    6      8\n",
              "    z    2⋅z "
            ]
          },
          "metadata": {
            "tags": []
          },
          "execution_count": 20
        }
      ]
    },
    {
      "cell_type": "code",
      "metadata": {
        "colab": {
          "base_uri": "https://localhost:8080/",
          "height": 37
        },
        "id": "toS0kweIDLkx",
        "outputId": "0a3c1c3b-42c1-4631-a379-d8bad082b5ca"
      },
      "source": [
        "D4_=d4.subs(z,1)\n",
        "D4_"
      ],
      "execution_count": null,
      "outputs": [
        {
          "output_type": "execute_result",
          "data": {
            "image/png": "[encoded data removed]",
            "text/latex": "$\\displaystyle 84$",
            "text/plain": [
              "84"
            ]
          },
          "metadata": {
            "tags": []
          },
          "execution_count": 12
        }
      ]
    },
    {
      "cell_type": "code",
      "metadata": {
        "colab": {
          "base_uri": "https://localhost:8080/",
          "height": 37
        },
        "id": "yr3aS05EDOfC",
        "outputId": "5d74b4d8-f3f4-4f71-ce43-27382ba300cd"
      },
      "source": [
        "expr=D4_+6*D3_+7*D2_+25*D1_\n",
        "expr"
      ],
      "execution_count": null,
      "outputs": [
        {
          "output_type": "execute_result",
          "data": {
            "image/png": "[encoded data removed]",
            "text/latex": "$\\displaystyle 40$",
            "text/plain": [
              "40"
            ]
          },
          "metadata": {
            "tags": []
          },
          "execution_count": 14
        }
      ]
    },
    {
      "cell_type": "code",
      "metadata": {
        "colab": {
          "base_uri": "https://localhost:8080/"
        },
        "id": "sjnosE5eeegw",
        "outputId": "5bf8d251-b019-4d85-db16-a383137b435c"
      },
      "source": [
        "import random\n",
        "\n",
        "simulen=int(1e6)\n",
        "X=[[] for j in range(0,4)]\n",
        "\n",
        "for j in range(0,4):\n",
        "  X[j] = random.sample([-1,1], 1)\n",
        "  for i in range(0,simulen):\n",
        "    X[j].append(random.sample([-1,1], 1)[0])\n",
        "\n",
        "Y=[(X[0][i]+X[1][i]+X[2][i]+X[3][i])**(4) for i in range(0,simulen)]\n",
        "\n",
        "sum=0\n",
        "for i in range(0,simulen):\n",
        "  sum+=Y[i]\n",
        "\n",
        "print(\"expectation value of E(X1+x2+X3+X4)^4 is :\",sum/simulen)"
      ],
      "execution_count": 24,
      "outputs": [
        {
          "output_type": "stream",
          "text": [
            "expectation value of E(X1+x2+X3+X4)^4 is : 40.07696\n"
          ],
          "name": "stdout"
        }
      ]
    }
  ]
}